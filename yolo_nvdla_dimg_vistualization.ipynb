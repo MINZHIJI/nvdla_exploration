{
 "cells": [
  {
   "cell_type": "markdown",
   "metadata": {},
   "source": [
    "# This notebook is to save the yolo v1 bounding box image with nvdla result.\n",
    "\n",
    "## TODO: show image on jupyter notebook"
   ]
  },
  {
   "cell_type": "code",
   "execution_count": 1,
   "metadata": {},
   "outputs": [],
   "source": [
    "import caffe\n",
    "import numpy as np\n",
    "import sys, getopt\n",
    "import cv2\n",
    "from matplotlib import pyplot as plt"
   ]
  },
  {
   "cell_type": "code",
   "execution_count": 2,
   "metadata": {},
   "outputs": [],
   "source": [
    "def interpret_output(output, img_width, img_height):\n",
    "    classes = [\"aeroplane\", \"bicycle\", \"bird\", \"boat\", \"bottle\", \"bus\", \"car\", \"cat\", \"chair\", \"cow\", \"diningtable\", \"dog\", \"horse\", \"motorbike\", \"person\", \"pottedplant\", \"sheep\", \"sofa\", \"train\",\"tvmonitor\"]\n",
    "    w_img = img_width\n",
    "    h_img = img_height\n",
    "    # print w_img, h_img\n",
    "    threshold = 0.01\n",
    "    iou_threshold = 0.5\n",
    "    num_class = 20\n",
    "    num_box = 2\n",
    "    grid_size = 7\n",
    "    probs = np.zeros((7,7,2,20))\n",
    "\n",
    "    class_probs = np.reshape(output[0:980],(7,7,20))\n",
    "\n",
    "#   print class_probs\n",
    "    scales = np.reshape(output[980:1078],(7,7,2))\n",
    "#   print scales\n",
    "    boxes = np.reshape(output[1078:],(7,7,2,4))\n",
    "    offset = np.transpose(np.reshape(np.array([np.arange(7)]*14),(2,7,7)),(1,2,0))\n",
    "\n",
    "    boxes[:,:,:,0] += offset\n",
    "    boxes[:,:,:,1] += np.transpose(offset,(1,0,2))\n",
    "    boxes[:,:,:,0:2] = boxes[:,:,:,0:2] / 7.0\n",
    "    boxes[:,:,:,2] = np.multiply(boxes[:,:,:,2],boxes[:,:,:,2])\n",
    "    boxes[:,:,:,3] = np.multiply(boxes[:,:,:,3],boxes[:,:,:,3])\n",
    "        \n",
    "    boxes[:,:,:,0] *= w_img\n",
    "    boxes[:,:,:,1] *= h_img\n",
    "    boxes[:,:,:,2] *= w_img\n",
    "    boxes[:,:,:,3] *= h_img\n",
    "\n",
    "    for i in range(2):\n",
    "        for j in range(20):\n",
    "            probs[:,:,i,j] = np.multiply(class_probs[:,:,j],scales[:,:,i])\n",
    "\n",
    "    filter_mat_probs = np.array(probs>=threshold,dtype='bool')\n",
    "    filter_mat_boxes = np.nonzero(filter_mat_probs)\n",
    "\n",
    "    boxes_filtered = boxes[filter_mat_boxes[0],filter_mat_boxes[1],filter_mat_boxes[2]]\n",
    "    probs_filtered = probs[filter_mat_probs]\n",
    "    classes_num_filtered = np.argmax(probs,axis=3)[filter_mat_boxes[0],filter_mat_boxes[1],filter_mat_boxes[2]]\n",
    "    argsort = np.array(np.argsort(probs_filtered))[::-1]\n",
    "    boxes_filtered = boxes_filtered[argsort]\n",
    "    probs_filtered = probs_filtered[argsort]\n",
    "    classes_num_filtered = classes_num_filtered[argsort]\n",
    "        \n",
    "    for i in range(len(boxes_filtered)):\n",
    "        if probs_filtered[i] == 0 : continue\n",
    "        for j in range(i+1,len(boxes_filtered)):\n",
    "            if iou(boxes_filtered[i],boxes_filtered[j]) > iou_threshold : \n",
    "                probs_filtered[j] = 0.0\n",
    "        \n",
    "    filter_iou = np.array(probs_filtered>0.0,dtype='bool')\n",
    "    boxes_filtered = boxes_filtered[filter_iou]\n",
    "    probs_filtered = probs_filtered[filter_iou]\n",
    "    classes_num_filtered = classes_num_filtered[filter_iou]\n",
    "\n",
    "    result = []\n",
    "    for i in range(len(boxes_filtered)):\n",
    "        result.append([classes[classes_num_filtered[i]],boxes_filtered[i][0],boxes_filtered[i][1],boxes_filtered[i][2],boxes_filtered[i][3],probs_filtered[i]])\n",
    "\n",
    "    return result"
   ]
  },
  {
   "cell_type": "code",
   "execution_count": 3,
   "metadata": {},
   "outputs": [],
   "source": [
    "def read_log_file(file):  \n",
    "    with open(file, 'r') as f:\n",
    "        raw_data = f.readlines()\n",
    "    raw_data_split = raw_data[0].split()\n",
    "\n",
    "    np_raw_data = np.asarray(raw_data_split)\n",
    "\n",
    "    fp_raw_data = np_raw_data.astype(np.float)\n",
    "\n",
    "    return fp_raw_data"
   ]
  },
  {
   "cell_type": "code",
   "execution_count": 4,
   "metadata": {},
   "outputs": [],
   "source": [
    "def iou(box1,box2):\n",
    "    tb = min(box1[0]+0.5*box1[2],box2[0]+0.5*box2[2])-max(box1[0]-0.5*box1[2],box2[0]-0.5*box2[2])\n",
    "    lr = min(box1[1]+0.5*box1[3],box2[1]+0.5*box2[3])-max(box1[1]-0.5*box1[3],box2[1]-0.5*box2[3])\n",
    "    if tb < 0 or lr < 0 : intersection = 0\n",
    "    else : intersection =  tb*lr\n",
    "    return intersection / (box1[2]*box1[3] + box2[2]*box2[3] - intersection)"
   ]
  },
  {
   "cell_type": "code",
   "execution_count": 5,
   "metadata": {},
   "outputs": [],
   "source": [
    "def show_results(img,results, img_width, img_height):\n",
    "    img_cp = img.copy()\n",
    "    disp_console = True\n",
    "    imshow = True\n",
    "    imsave = True\n",
    "    for i in range(len(results)):\n",
    "        x = int(results[i][1])\n",
    "        y = int(results[i][2])\n",
    "        w = int(results[i][3])//2\n",
    "        h = int(results[i][4])//2\n",
    "        print '    class : ' + results[i][0] + ' , [x,y,w,h]=[' + str(x) + ',' + str(y) + ',' + str(int(results[i][3])) + ',' + str(int(results[i][4]))+'], Confidence = ' + str(results[i][5]) \n",
    "        xmin = x-w\n",
    "        xmax = x+w\n",
    "        ymin = y-h\n",
    "        ymax = y+h\n",
    "        if xmin<0:\n",
    "            xmin = 0\n",
    "        if ymin<0:  \n",
    "            ymin = 0\n",
    "        if xmax>img_width:\n",
    "            xmax = img_width\n",
    "        if ymax>img_height:\n",
    "            ymax = img_height\n",
    "        if  imshow:\n",
    "            cv2.rectangle(img_cp,(xmin,ymin),(xmax,ymax),(0,255,0),2)\n",
    "            print xmin, ymin, xmax, ymax\n",
    "            cv2.rectangle(img_cp,(xmin,ymin-20),(xmax,ymin),(125,125,125),-1)\n",
    "            cv2.putText(img_cp,results[i][0] + ' : %.2f' % results[i][5],(xmin+5,ymin-7),cv2.FONT_HERSHEY_SIMPLEX,0.5,(0,0,0),1)\n",
    "#     if imshow :\n",
    "#         cv2.imshow('YOLO detection',img_cp)\n",
    "    if imsave :\n",
    "        img_uint8 = img_cp * 255\n",
    "        cv2.imwrite('result.png',img_uint8)"
   ]
  },
  {
   "cell_type": "code",
   "execution_count": 6,
   "metadata": {
    "scrolled": false
   },
   "outputs": [
    {
     "name": "stdout",
     "output_type": "stream",
     "text": [
      "    class : person , [x,y,w,h]=[216,213,137,152], Confidence = 0.0182180569128\n",
      "148 137 284 289\n",
      "    class : person , [x,y,w,h]=[147,211,61,98], Confidence = 0.018079142973\n",
      "117 162 177 260\n",
      "    class : person , [x,y,w,h]=[277,275,42,54], Confidence = 0.01795584375\n",
      "256 248 298 302\n",
      "    class : person , [x,y,w,h]=[215,277,71,85], Confidence = 0.015892343544\n",
      "180 235 250 319\n",
      "    class : person , [x,y,w,h]=[143,269,39,65], Confidence = 0.013002145401\n",
      "124 237 162 301\n",
      "    class : person , [x,y,w,h]=[326,202,51,32], Confidence = 0.012195553587999999\n",
      "301 186 351 218\n",
      "    class : person , [x,y,w,h]=[272,210,49,72], Confidence = 0.011403981676100001\n",
      "248 174 296 246\n"
     ]
    }
   ],
   "source": [
    "rawdump = \"/home/caslab/workspace/NVDLA/sw_6_1/prebuilt/linux/runtime/yolo_dimg_each_448/yolo_tiny_deploy.prototxt.dimg\"\n",
    "img_filename = \"/home/caslab/workspace/NVDLA/sw_6_1/prebuilt/linux/image/dog448.jpg\"\n",
    "\n",
    "np_raw_data = read_log_file(rawdump)\n",
    "img = caffe.io.load_image(img_filename)\n",
    "img_cv = cv2.cvtColor(img, cv2.COLOR_RGB2BGR)\n",
    "\n",
    "results = interpret_output(np_raw_data, img.shape[1] , img.shape[0])\n",
    "\n",
    "show_results(img_cv,results, 448, 448)"
   ]
  },
  {
   "cell_type": "code",
   "execution_count": null,
   "metadata": {},
   "outputs": [],
   "source": []
  }
 ],
 "metadata": {
  "kernelspec": {
   "display_name": "Python 2",
   "language": "python",
   "name": "python2"
  },
  "language_info": {
   "codemirror_mode": {
    "name": "ipython",
    "version": 2
   },
   "file_extension": ".py",
   "mimetype": "text/x-python",
   "name": "python",
   "nbconvert_exporter": "python",
   "pygments_lexer": "ipython2",
   "version": "2.7.6"
  }
 },
 "nbformat": 4,
 "nbformat_minor": 2
}
