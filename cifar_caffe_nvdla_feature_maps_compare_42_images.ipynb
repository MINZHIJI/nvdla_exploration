{
 "cells": [
  {
   "cell_type": "code",
   "execution_count": 1,
   "metadata": {},
   "outputs": [],
   "source": [
    "import numpy as np\n",
    "import matplotlib.pyplot as plt\n",
    "%matplotlib inline\n",
    "import sys\n",
    "import os\n",
    "import caffe\n",
    "import time\n",
    "import glob\n",
    "import scipy"
   ]
  },
  {
   "cell_type": "code",
   "execution_count": 2,
   "metadata": {},
   "outputs": [],
   "source": [
    "def top_k(result, top_num, label_arr):\n",
    "    tmp = -(top_num+1)\n",
    "    top_k = result.flatten().argsort()[-1:tmp:-1]\n",
    "    top_num = 1\n",
    "    for i in np.arange(top_k.size):\n",
    "        print(\"Top %d:\\tProb:%2.4f%%\\t[%d]\\t %s\"%(top_num,result[top_k[i]]*100,top_k[i], labels[top_k[i]]))\n",
    "        top_num = top_num + 1"
   ]
  },
  {
   "cell_type": "code",
   "execution_count": 3,
   "metadata": {},
   "outputs": [],
   "source": [
    "def read_files(path,fileType):\n",
    "    dimg_files = []\n",
    "    for root, directories, filenames in os.walk(path):\n",
    "        for filename in filenames:\n",
    "            if fileType in filename:\n",
    "                dimg_files.append(os.path.join(root,filename))\n",
    "    return dimg_files"
   ]
  },
  {
   "cell_type": "code",
   "execution_count": 4,
   "metadata": {},
   "outputs": [],
   "source": [
    "def read_dimg(dimg_file):\n",
    "    return np.genfromtxt(dimg_file, float, delimiter=' ')"
   ]
  },
  {
   "cell_type": "code",
   "execution_count": 5,
   "metadata": {},
   "outputs": [],
   "source": [
    "def get_image_path(basename,path,ext):\n",
    "    return(path + os.path.basename(basename).split('.')[0] + ext)"
   ]
  },
  {
   "cell_type": "code",
   "execution_count": 6,
   "metadata": {},
   "outputs": [],
   "source": [
    "def loss_rate(arr1, arr2):\n",
    "#     print arr1, arr2\n",
    "    return np.sum(np.absolute(np.subtract(arr1,arr2)))/len(arr1)"
   ]
  },
  {
   "cell_type": "code",
   "execution_count": 7,
   "metadata": {},
   "outputs": [],
   "source": [
    "def cross_entropy(predictions, targets, epsilon=1e-12):\n",
    "    \"\"\"\n",
    "    Computes cross entropy between targets (encoded as one-hot vectors)\n",
    "    and predictions. \n",
    "    Input: predictions (N, k) ndarray\n",
    "           targets (N, k) ndarray        \n",
    "    Returns: scalar\n",
    "    \"\"\"\n",
    "    predictions = np.clip(predictions, epsilon, 1. - epsilon)\n",
    "    N = predictions.shape[0]\n",
    "    ce = -np.sum(np.sum(targets*np.log(predictions+1e-9)))/N\n",
    "    return ce"
   ]
  },
  {
   "cell_type": "code",
   "execution_count": 8,
   "metadata": {},
   "outputs": [],
   "source": [
    "# function is to show layer data by gray image\n",
    "def show_data(data, padsize=1, padval=0):\n",
    "    data -= data.min()\n",
    "    data /= data.max()\n",
    "    \n",
    "    # force the number of filters to be square\n",
    "    n = int(np.ceil(np.sqrt(data.shape[0])))\n",
    "    padding = ((0, n ** 2 - data.shape[0]), (0, padsize), (0, padsize)) + ((0, 0),) * (data.ndim - 3)\n",
    "    data = np.pad(data, padding, mode='constant', constant_values=(padval, padval))\n",
    "    \n",
    "    # tile the filters into an image\n",
    "    data = data.reshape((n, n) + data.shape[1:]).transpose((0, 2, 1, 3) + tuple(range(4, data.ndim + 1)))\n",
    "    data = data.reshape((n * data.shape[1], n * data.shape[3]) + data.shape[4:])\n",
    "    plt.figure()\n",
    "    plt.imshow(data,cmap='gray')\n",
    "    plt.axis('on')\n",
    "plt.rcParams['figure.figsize'] = (8, 8)\n",
    "plt.rcParams['image.interpolation'] = 'nearest'\n",
    "plt.rcParams['image.cmap'] = 'gray'"
   ]
  },
  {
   "cell_type": "code",
   "execution_count": 9,
   "metadata": {},
   "outputs": [],
   "source": [
    "def caffe_inference(image_path):\n",
    "    \n",
    "    # Configure\n",
    "    pycaffe_dir = '/home/caslab/workspace/caffe/caffe/python/'\n",
    "    model_dir = '/home/caslab/workspace/NVDLA/sw_5_17/sw/prebuilt/linux/model/'\n",
    "    input_file = image_path\n",
    "    model_def = os.path.join(model_dir,\"cifar10/cifar_quick_conv.prototxt\")\n",
    "    pretrained_model = os.path.join(model_dir,\"cifar10/cifar10_quick_iter_4000.caffemodel\")\n",
    "    gpu = False\n",
    "    center_only = True\n",
    "    images_dim = '32,32'\n",
    "    mean_file = '/home/caslab/workspace/caffe/caffe/examples/cifar10/mean.npy'\n",
    "    # input_scale = \n",
    "    raw_scale = 255.0\n",
    "    channel_swap = '2,1,0'\n",
    "    ext = 'jpg'\n",
    "    image_dims = [int(s) for s in images_dim.split(',')]\n",
    "    mean, channel_swap_arr = None, None\n",
    "    \n",
    "    \n",
    "    \n",
    "    # Setup parameter\n",
    "    if mean_file:\n",
    "        mean = np.load(mean_file)\n",
    "    if channel_swap:\n",
    "        channel_swap_arr = [int(s) for s in channel_swap.split(',')]\n",
    "    if gpu:\n",
    "        caffe.set_mode_gpu()\n",
    "    else:\n",
    "        caffe.set_mode_cpu()\n",
    "\n",
    "    \n",
    "    # Create classifier class\n",
    "    classifier = caffe.Classifier(model_def, pretrained_model,\n",
    "            image_dims=image_dims, mean=None,\n",
    "    #         image_dims=image_dims, mean=mean,\n",
    "            raw_scale=raw_scale,\n",
    "            channel_swap=channel_swap_arr)\n",
    "\n",
    "\n",
    "    \n",
    "    # Load image file.\n",
    "    inputs =[caffe.io.load_image(input_file)]\n",
    "    load_img_time_end = time.time()\n",
    "\n",
    "    # Classify\n",
    "    predictions = classifier.predict(inputs, not center_only)\n",
    "    \n",
    "    return predictions[0]"
   ]
  },
  {
   "cell_type": "code",
   "execution_count": 10,
   "metadata": {},
   "outputs": [],
   "source": [
    "dimg_root_path = '/home/caslab/workspace/NVDLA/sw_6_1/prebuilt/linux/runtime/test/'\n",
    "dimg_files = read_files(dimg_root_path,'dimg')\n",
    "image_root_path = '/home/caslab/workspace/dataset/cifar/mix/'\n",
    "\n",
    "test_name = []\n",
    "nvdla_result = []\n",
    "caffe_result = []\n",
    "\n",
    "for element in dimg_files:\n",
    "    test_name.append(os.path.basename(element).split('.')[0])\n",
    "    nvdla_result.append(read_dimg(element))\n",
    "    caffe_result.append(caffe_inference(get_image_path(element,image_root_path,'.jpg')))\n",
    "#     caffe_nvdla_loss.append(loss_rate(read_dimg(element).reshape(-1),caffe_inference(get_image_path(element,image_root_path,'.jpg')).reshape(-1)))\n",
    "    \n"
   ]
  },
  {
   "cell_type": "code",
   "execution_count": 11,
   "metadata": {},
   "outputs": [],
   "source": [
    "# caffe_nvdla_loss = []\n",
    "# for z in range(0,len(nvdla_result)):\n",
    "#     caffe_nvdla_loss.append(loss_rate(nvdla_result[z],caffe_result[z].reshape(-1)))\n",
    "\n",
    "caffe_nvdla_loss = []\n",
    "\n",
    "for z in range(0,len(nvdla_result)):\n",
    "    caffe_nvdla_loss.append(loss_rate(nvdla_result[z],caffe_result[z].reshape(-1)))"
   ]
  },
  {
   "cell_type": "code",
   "execution_count": 15,
   "metadata": {},
   "outputs": [
    {
     "data": {
      "image/png": "[encoded data removed]",
      "text/plain": [
       "<matplotlib.figure.Figure at 0x7fa5cfe12590>"
      ]
     },
     "metadata": {},
     "output_type": "display_data"
    }
   ],
   "source": [
    "pixel_width = 6\n",
    "pixel_height = 6\n",
    "plt.figure(figsize=(pixel_width, pixel_height))\n",
    "aa = range(0,42)\n",
    "l1, = plt.plot(aa,caffe_nvdla_loss,'ro', label = 'Loss rate', color = 'blue')\n",
    "\n",
    "plt.xlim((0, 41))\n",
    "plt.ylim((0, 0.05))\n",
    "plt.title(\"Absolute Loss between caffe and nvdla with 42 images\")\n",
    "plt.xlabel('images')\n",
    "plt.ylabel('Absolute Loss')\n",
    "\n",
    "plt.legend() #, labels = ['caffe', 'no mean'], loc = 'best')\n",
    "\n",
    "plt.show()"
   ]
  },
  {
   "cell_type": "code",
   "execution_count": null,
   "metadata": {},
   "outputs": [],
   "source": []
  }
 ],
 "metadata": {
  "kernelspec": {
   "display_name": "Python 2",
   "language": "python",
   "name": "python2"
  },
  "language_info": {
   "codemirror_mode": {
    "name": "ipython",
    "version": 2
   },
   "file_extension": ".py",
   "mimetype": "text/x-python",
   "name": "python",
   "nbconvert_exporter": "python",
   "pygments_lexer": "ipython2",
   "version": "2.7.6"
  }
 },
 "nbformat": 4,
 "nbformat_minor": 2
}
