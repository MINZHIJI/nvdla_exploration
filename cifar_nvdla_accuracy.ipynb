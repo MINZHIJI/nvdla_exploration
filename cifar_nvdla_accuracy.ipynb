{
 "cells": [
  {
   "cell_type": "markdown",
   "metadata": {},
   "source": [
    "# This notebook is calculate accuaracy of CIFAR 10 quick with NVDLA\n",
    "\n",
    "## Environment\n",
    "\n",
    "* NVDLA \n",
    "    * Hardware: nvdla/nvdlav1\n",
    "    * Software: nvdla/sw @github 06/01/2018\n",
    "* Model\n",
    "    * Dataset: 10000 images of CIFAR10 test  \n",
    "    * Model: CIFAR 10 quick"
   ]
  },
  {
   "cell_type": "code",
   "execution_count": 1,
   "metadata": {},
   "outputs": [],
   "source": [
    "import numpy as np\n",
    "import matplotlib.pyplot as plt\n",
    "%matplotlib inline\n",
    "import sys\n",
    "import os\n",
    "import caffe\n",
    "import time\n",
    "import glob"
   ]
  },
  {
   "cell_type": "code",
   "execution_count": 2,
   "metadata": {},
   "outputs": [],
   "source": [
    "def top_k(result, top_num, label_arr):\n",
    "    tmp = -(top_num+1)\n",
    "    top_k = result.flatten().argsort()[-1:tmp:-1]\n",
    "    top_num = 1\n",
    "    for i in np.arange(top_k.size):\n",
    "        print(\"Top %d:\\tProb:%2.4f%%\\t[%d]\\t %s\"%(top_num,result[top_k[i]]*100,top_k[i], labels[top_k[i]]))\n",
    "        top_num = top_num + 1"
   ]
  },
  {
   "cell_type": "code",
   "execution_count": 3,
   "metadata": {},
   "outputs": [],
   "source": [
    "def read_files(path,fileType):\n",
    "    dimg_files = []\n",
    "    for root, directories, filenames in os.walk(path):\n",
    "        for filename in filenames:\n",
    "            if fileType in filename:\n",
    "                dimg_files.append(os.path.join(root,filename))\n",
    "    return dimg_files"
   ]
  },
  {
   "cell_type": "code",
   "execution_count": 4,
   "metadata": {},
   "outputs": [],
   "source": [
    "def read_dimg(dimg_file):\n",
    "    return np.genfromtxt(dimg_file, float, delimiter=' ')"
   ]
  },
  {
   "cell_type": "code",
   "execution_count": 5,
   "metadata": {},
   "outputs": [],
   "source": [
    "dimg_root_path = '/home/caslab/workspace/NVDLA/sw_6_1/prebuilt/linux/runtime/test/'\n",
    "dimg_files = read_files(dimg_root_path,'dimg')\n",
    "\n",
    "\n",
    "\n",
    "test_name = []\n",
    "nvdla_result = []\n",
    "\n",
    "for element in dimg_files:\n",
    "    tmp = os.path.basename(element).split('.')[0].split('_')[1]\n",
    "    test_name.append(tmp)\n",
    "    nvdla_result.append(read_dimg(element))\n",
    "    \n"
   ]
  },
  {
   "cell_type": "code",
   "execution_count": 6,
   "metadata": {},
   "outputs": [],
   "source": [
    "cifar10_synset_file = '/home/caslab/workspace/dataset/cifar/labels.txt'\n",
    "cifar_labels = np.genfromtxt(cifar10_synset_file, str, delimiter='\\n')"
   ]
  },
  {
   "cell_type": "code",
   "execution_count": 7,
   "metadata": {
    "scrolled": false
   },
   "outputs": [],
   "source": [
    "show = False\n",
    "if show:\n",
    "    for i in range(0,len(nvdla_result)):\n",
    "        plt.rcdefaults()\n",
    "        fig, ax = plt.subplots()\n",
    "\n",
    "        label = (\"airplane\",\"automobile\",\"bird\",\"cat\",\"deer\",\"dog\",\"frog\",\"horse\",\"ship\",\"truck\")\n",
    "        y_pos = np.arange(len(label))\n",
    "\n",
    "        ax.barh(y_pos, nvdla_result[i], align='center',\n",
    "                color='gray', ecolor='black')\n",
    "        ax.set_yticks(y_pos)\n",
    "        ax.set_yticklabels(label)\n",
    "        plt.xlabel(\"Class\")\n",
    "        ax.invert_yaxis()  # labels read top-to-bottom\n",
    "        ax.set_xlabel('Probability')\n",
    "        ax.set_title('CIFAR10 Quick Classification Ans:%s'%test_name[i])\n",
    "\n",
    "        plt.show()"
   ]
  },
  {
   "cell_type": "code",
   "execution_count": 8,
   "metadata": {},
   "outputs": [],
   "source": [
    "counter = 0.0\n",
    "for i in range(0,len(nvdla_result)):\n",
    "    if (cifar_labels[nvdla_result[i].argmax()] == test_name[i]):\n",
    "        counter += 1"
   ]
  },
  {
   "cell_type": "code",
   "execution_count": 9,
   "metadata": {},
   "outputs": [
    {
     "name": "stdout",
     "output_type": "stream",
     "text": [
      "Accuracy: 25.378%, Totol test num: 2380\n"
     ]
    }
   ],
   "source": [
    "print(\"Accuracy: %.3f%%, Totol test num: %d\"%((counter*100/len(nvdla_result)),len(nvdla_result)))"
   ]
  },
  {
   "cell_type": "code",
   "execution_count": null,
   "metadata": {},
   "outputs": [],
   "source": []
  }
 ],
 "metadata": {
  "kernelspec": {
   "display_name": "Python 2",
   "language": "python",
   "name": "python2"
  },
  "language_info": {
   "codemirror_mode": {
    "name": "ipython",
    "version": 2
   },
   "file_extension": ".py",
   "mimetype": "text/x-python",
   "name": "python",
   "nbconvert_exporter": "python",
   "pygments_lexer": "ipython2",
   "version": "2.7.6"
  }
 },
 "nbformat": 4,
 "nbformat_minor": 2
}
